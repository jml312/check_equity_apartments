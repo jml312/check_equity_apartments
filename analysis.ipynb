{
 "cells": [
  {
   "cell_type": "code",
   "execution_count": 1,
   "metadata": {},
   "outputs": [],
   "source": [
    "from helpers.get_apartment_details import get_apartment_details\n",
    "from helpers.get_special_details import get_special_details\n",
    "from requests import get\n",
    "from bs4 import BeautifulSoup\n",
    "from json import load"
   ]
  },
  {
   "cell_type": "code",
   "execution_count": 2,
   "metadata": {},
   "outputs": [],
   "source": [
    "with open(\"./data/apartment_criteria.json\", \"r\") as jf:\n",
    "  apartment_criteria = load(jf) "
   ]
  },
  {
   "cell_type": "code",
   "execution_count": 3,
   "metadata": {},
   "outputs": [],
   "source": [
    "url = \"https://www.equityapartments.com/boston/west-end/the-west-end-apartments-asteria-villas-and-vesta\"\n",
    "res = get(url)"
   ]
  },
  {
   "cell_type": "code",
   "execution_count": 4,
   "metadata": {},
   "outputs": [],
   "source": [
    "soup = BeautifulSoup(res.content, 'html.parser')\n",
    "all_apartments = soup.find_all(\"div\", class_=\"unit-expanded-card\")"
   ]
  },
  {
   "cell_type": "code",
   "execution_count": 12,
   "metadata": {},
   "outputs": [
    {
     "name": "stdout",
     "output_type": "stream",
     "text": [
      "['\\n\\n$2,690', '12', 'mo\\n\\n\\r\\n', '0', 'Bed', '/', '1', 'Bath\\r\\n', '\\n\\n542', 'sq.ft.', '/\\nFloor', '3\\n\\n\\r\\n', 'Available', '1/26/2024\\r\\n', '\\n\\n', 'Photos\\n', 'Video\\n\\n']\n",
      "['\\n\\n$2,860', '12', 'mo\\n\\n\\r\\n', '0', 'Bed', '/', '1', 'Bath\\r\\n', '\\n\\n542', 'sq.ft.', '/\\nFloor', '5\\n\\n\\r\\n', 'Available', '1/26/2024\\r\\n', '\\n\\n', 'Photos\\n', 'Video\\n\\n']\n",
      "['\\n\\n$3,020', '12', 'mo\\n\\n\\r\\n', '0', 'Bed', '/', '1', 'Bath\\r\\n', '\\n\\n625', 'sq.ft.', '/\\nFloor', '10\\n\\n\\r\\n', 'Available', '2/6/2024\\r\\n', '\\n\\n', 'Video\\n\\n']\n",
      "['\\n\\n$2,875', '12', 'mo\\n\\n\\r\\n', '1', 'Bed', '/', '1', 'Bath\\r\\n', '\\n\\n742', 'sq.ft.', '/\\nFloor', '2\\n\\n\\r\\n', 'Available', '1/26/2024\\r\\n', '\\n\\n', 'Photos\\n', 'Video\\n\\n']\n",
      "['\\n\\n$2,940', '12', 'mo\\n\\n\\r\\n', '1', 'Bed', '/', '1', 'Bath\\r\\n', '\\n\\n757', 'sq.ft.', '/\\nFloor', '6\\n\\n\\r\\n', 'Available', '3/8/2024\\r\\n', '\\n\\n\\n']\n",
      "['\\n\\n$2,975', '12', 'mo\\n\\n\\r\\n', '1', 'Bed', '/', '1', 'Bath\\r\\n', '\\n\\n742', 'sq.ft.', '/\\nFloor', '4\\n\\n\\r\\n', 'Available', '3/19/2024\\r\\n', '\\n\\n', 'Photos\\n', 'Video\\n\\n']\n",
      "['\\n\\n$2,995', '12', 'mo\\n\\n\\r\\n', '1', 'Bed', '/', '1', 'Bath\\r\\n', '\\n\\n757', 'sq.ft.', '/\\nFloor', '3\\n\\n\\r\\n', 'Available', '1/26/2024\\r\\n', '\\n\\n', 'Photos\\n', 'Video\\n', '3D', 'Floorplan\\n\\n']\n",
      "['\\n\\n$3,010', '12', 'mo\\n\\n\\r\\n', '1', 'Bed', '/', '1', 'Bath\\r\\n', '\\n\\n757', 'sq.ft.', '/\\nFloor', '7\\n\\n\\r\\n', 'Available', '1/26/2024\\r\\n', '\\n\\n', 'Photos\\n', 'Video\\n', '3D', 'Floorplan\\n\\n']\n",
      "['\\n\\n$3,070', '12', 'mo\\n\\n\\r\\n', '1', 'Bed', '/', '1', 'Bath\\r\\n', '\\n\\n757', 'sq.ft.', '/\\nFloor', '8\\n\\n\\r\\n', 'Available', '1/26/2024\\r\\n', '\\n\\n', 'Photos\\n', 'Video\\n', '3D', 'Floorplan\\n\\n']\n",
      "['\\n\\n$3,130', '12', 'mo\\n\\n\\r\\n', '1', 'Bed', '/', '1', 'Bath\\r\\n', '\\n\\n765', 'sq.ft.', '/\\nFloor', '3\\n\\n\\r\\n', 'Available', '1/26/2024\\r\\n', '\\n\\n', 'Photos\\n', 'Video\\n\\n']\n",
      "['\\n\\n$3,130', '12', 'mo\\n\\n\\r\\n', '1', 'Bed', '/', '1', 'Bath\\r\\n', '\\n\\n819', 'sq.ft.', '/\\nFloor', '3\\n\\n\\r\\n', 'Available', '3/6/2024\\r\\n', '\\n\\n\\n']\n",
      "['\\n\\n$3,145', '12', 'mo\\n\\n\\r\\n', '1', 'Bed', '/', '1', 'Bath\\r\\n', '\\n\\n765', 'sq.ft.', '/\\nFloor', '5\\n\\n\\r\\n', 'Available', '2/2/2024\\r\\n', '\\n\\n', 'Photos\\n', 'Video\\n\\n']\n",
      "['\\n\\n$3,195', '12', 'mo\\n\\n\\r\\n', '1', 'Bed', '/', '1', 'Bath\\r\\n', '\\n\\n881', 'sq.ft.', '/\\nFloor', '6\\n\\n\\r\\n', 'Available', '3/30/2024\\r\\n', '\\n\\n', 'Video\\n', '3D', 'Floorplan\\n\\n']\n",
      "['\\n\\n$3,290', '12', 'mo\\n\\n\\r\\n', '1', 'Bed', '/', '1', 'Bath\\r\\n', '\\n\\n874', 'sq.ft.', '/\\nFloor', '1\\n\\n\\r\\n', 'Available', '1/26/2024\\r\\n', '\\n\\n', 'Photos\\n', '3D', 'Floorplan\\n\\n']\n",
      "['\\n\\n$3,515', '12', 'mo\\n\\n\\r\\n', '1', 'Bed', '/', '1', 'Bath\\r\\n', '\\n\\n874', 'sq.ft.', '/\\nFloor', '1\\n\\n\\r\\n', 'Available', '3/1/2024\\r\\n', '\\n\\n', 'Photos\\n', '3D', 'Floorplan\\n\\n']\n",
      "['\\n\\n$4,020', '12', 'mo\\n\\n\\r\\n', '2', 'Bed', '/', '2', 'Bath\\r\\n', '\\n\\n1076', 'sq.ft.', '/\\nFloor', '5\\n\\n\\r\\n', 'Available', '1/26/2024\\r\\n', '\\n\\n', 'Photos\\n', 'Video\\n\\n']\n",
      "['\\n\\n$4,190', '12', 'mo\\n\\n\\r\\n', '2', 'Bed', '/', '2', 'Bath\\r\\n', '\\n\\n1194', 'sq.ft.', '/\\nFloor', '1\\n\\n\\r\\n', 'Available', '2/1/2024\\r\\n', '\\n\\n\\n']\n",
      "['\\n\\n$4,230', '12', 'mo\\n\\n\\r\\n', '2', 'Bed', '/', '2', 'Bath\\r\\n', '\\n\\n1076', 'sq.ft.', '/\\nFloor', '11\\n\\n\\r\\n', 'Available', '1/30/2024\\r\\n', '\\n\\n', 'Photos\\n', 'Video\\n\\n']\n",
      "['\\n\\n$4,300', '12', 'mo\\n\\n\\r\\n', '2', 'Bed', '/', '2', 'Bath\\r\\n', '\\n\\n1178', 'sq.ft.', '/\\nFloor', '7\\n\\n\\r\\n', 'Available', '1/26/2024\\r\\n', '\\n\\n\\n']\n",
      "['\\n\\n$4,395', '12', 'mo\\n\\n\\r\\n', '2', 'Bed', '/', '2', 'Bath\\r\\n', '\\n\\n1185', 'sq.ft.', '/\\nFloor', '3\\n\\n\\r\\n', 'Available', '1/26/2024\\r\\n', '\\n\\n', 'Video\\n\\n']\n",
      "['\\n\\n$4,430', '12', 'mo\\n\\n\\r\\n', '2', 'Bed', '/', '2', 'Bath\\r\\n', '\\n\\n1238', 'sq.ft.', '/\\nFloor', '2\\n\\n\\r\\n', 'Available', '1/26/2024\\r\\n', '\\n\\n', '3D', 'Floorplan\\n\\n']\n",
      "['\\n\\n$4,635', '12', 'mo\\n\\n\\r\\n', '2', 'Bed', '/', '2', 'Bath\\r\\n', '\\n\\n1389', 'sq.ft.', '/\\nFloor', '2\\n\\n\\r\\n', 'Available', '1/26/2024\\r\\n', '\\n\\n', 'Photos\\n', 'Video\\n', '3D', 'Floorplan\\n\\n']\n",
      "['\\n\\n$5,015', '12', 'mo\\n\\n\\r\\n', '2', 'Bed', '/', '2', 'Bath\\r\\n', '\\n\\n1570', 'sq.ft.', '/\\nFloor', '1\\n\\n\\r\\n', 'Available', '3/12/2024\\r\\n', '\\n\\n\\n']\n"
     ]
    }
   ],
   "source": [
    "apartment_data = []\n",
    "for apartment in all_apartments:\n",
    "  specs = apartment.find(\"div\", class_=\"specs\")\n",
    "  text_data = [data for data in specs.text.split(\" \") if data]\n",
    "  \n",
    "  print(text_data)\n",
    "  \n",
    "  op = get_apartment_details(text_data, apartment_criteria)\n",
    "  \n",
    "  # print(op)\n",
    "  \n",
    "  # meets_criteria, apartment_details = get_apartment_details(text_data, apartment_criteria)\n",
    "  # if meets_criteria:\n",
    "  #   special_offer = {\n",
    "  #     \"special_offer\": get_special_details(apartment)\n",
    "  #   }\n",
    "  #   apartment_data.append({\n",
    "  #     **apartment_details,\n",
    "  #     **special_offer\n",
    "  #   })"
   ]
  },
  {
   "cell_type": "code",
   "execution_count": 10,
   "metadata": {},
   "outputs": [
    {
     "name": "stdout",
     "output_type": "stream",
     "text": [
      "[]\n"
     ]
    }
   ],
   "source": [
    "print(apartment_data)"
   ]
  }
 ],
 "metadata": {
  "kernelspec": {
   "display_name": "Python 3",
   "language": "python",
   "name": "python3"
  },
  "language_info": {
   "codemirror_mode": {
    "name": "ipython",
    "version": 3
   },
   "file_extension": ".py",
   "mimetype": "text/x-python",
   "name": "python",
   "nbconvert_exporter": "python",
   "pygments_lexer": "ipython3",
   "version": "3.8.2"
  }
 },
 "nbformat": 4,
 "nbformat_minor": 2
}
